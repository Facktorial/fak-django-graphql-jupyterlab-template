{
 "cells": [
  {
   "cell_type": "code",
   "execution_count": 4,
   "id": "e3484d09-6aa6-471d-b417-5507cc7935b4",
   "metadata": {},
   "outputs": [],
   "source": [
    "from necessary_imports.django_for_jupyter_import_me_pls import init_django\n",
    "\n",
    "init_django('{{cookiecutter.project_name}}')"
   ]
  },
  {
   "cell_type": "code",
   "execution_count": 5,
   "id": "71fb032d-6ce2-4011-bc82-9dffbb356d7d",
   "metadata": {},
   "outputs": [],
   "source": [
    "from {{cookiecutter.app_name}}.models import *"
   ]
  },
  {
   "cell_type": "code",
   "execution_count": 6,
   "id": "95ea1608-130f-4101-87c7-974485118d45",
   "metadata": {},
   "outputs": [],
   "source": [
    "x = Test.objects.all()"
   ]
  },
  {
   "cell_type": "code",
   "execution_count": null,
   "id": "1ff4af60-4684-4110-a987-b873b1a86faa",
   "metadata": {},
   "outputs": [],
   "source": [
    "print(x.query)"
   ]
  },
  {
   "cell_type": "code",
   "execution_count": 12,
   "id": "171d4902-1e94-41a3-9c07-418d50c4b032",
   "metadata": {},
   "outputs": [],
   "source": [
    "qs0 = x.values_list(\"name\", \"id\", \"status\", \"consumers\")\n",
    "qs = x.values(\"name\", \"id\", \"status\", \"consumers\")"
   ]
  },
  {
   "cell_type": "code",
   "execution_count": 10,
   "id": "a973ca21-e15b-419d-be39-12f2f11f38c9",
   "metadata": {},
   "outputs": [],
   "source": [
    "import pandas as pd"
   ]
  },
  {
   "cell_type": "code",
   "execution_count": null,
   "id": "ba27deea-c178-4375-a486-40c61a61f23e",
   "metadata": {},
   "outputs": [],
   "source": [
    "qs0"
   ]
  },
  {
   "cell_type": "code",
   "execution_count": null,
   "id": "ed903322-482e-456f-b4d3-6acbba7c3a42",
   "metadata": {},
   "outputs": [],
   "source": [
    "qs"
   ]
  },
  {
   "cell_type": "code",
   "execution_count": 26,
   "id": "f6d7e906-7be2-407a-90b8-63ea93cf4aa7",
   "metadata": {},
   "outputs": [],
   "source": [
    "df0 = pd.DataFrame(qs0)\n",
    "# df0.set_index('id', inplace=True)\n",
    "df = pd.DataFrame(qs)\n",
    "df.set_index('id', inplace=True)"
   ]
  },
  {
   "cell_type": "code",
   "execution_count": null,
   "id": "3936f926-46d8-4516-a64c-904a36e5deda",
   "metadata": {},
   "outputs": [],
   "source": [
    "df0.head()"
   ]
  },
  {
   "cell_type": "code",
   "execution_count": null,
   "id": "b5977864-66d2-48bc-8827-3a128a2d1842",
   "metadata": {},
   "outputs": [],
   "source": [
    "df.head()"
   ]
  },
  {
   "cell_type": "code",
   "execution_count": null,
   "id": "81a202c8-9f26-40bc-befc-8d4379150f63",
   "metadata": {},
   "outputs": [],
   "source": []
  }
 ],
 "metadata": {
  "interpreter": {
   "hash": "97cc609b13305c559618ec78a438abc56230b9381f827f22d070313b9a1f3777"
  },
  "kernelspec": {
   "display_name": "Django Kernel",
   "language": "python",
   "name": "python3"
  },
  "language_info": {
   "codemirror_mode": {
    "name": "ipython",
    "version": 3
   },
   "file_extension": ".py",
   "mimetype": "text/x-python",
   "name": "python",
   "nbconvert_exporter": "python",
   "pygments_lexer": "ipython3",
   "version": "3.10.0"
  }
 },
 "nbformat": 4,
 "nbformat_minor": 5
}
